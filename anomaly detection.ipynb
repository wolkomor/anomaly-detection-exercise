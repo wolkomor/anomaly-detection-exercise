{
 "cells": [
  {
   "cell_type": "markdown",
   "metadata": {},
   "source": [
    "# imports packages"
   ]
  },
  {
   "cell_type": "code",
   "execution_count": 6,
   "metadata": {},
   "outputs": [],
   "source": [
    "from sklearn import svm\n",
    "from sklearn.ensemble import IsolationForest\n",
    "from sklearn.neighbors import LocalOutlierFactor\n",
    "from sklearn.covariance import EllipticEnvelope\n",
    "\n",
    "import sweetviz as sv\n",
    "import pandas as pd\n",
    "from pandas_profiling import ProfileReport\n",
    "import numpy as np\n",
    "from pathlib import Path\n",
    "import pickle, sys, os\n",
    "import datetime\n",
    "import matplotlib.pyplot as plt\n",
    "import joblib\n",
    "\n",
    "from sklearn.pipeline import Pipeline\n",
    "from sklearn.metrics import confusion_matrix, classification_report, f1_score, roc_curve, auc, precision_score, recall_score, accuracy_score\n",
    "from sklearn.preprocessing import StandardScaler, FunctionTransformer, OneHotEncoder\n",
    "from sklearn.decomposition import PCA\n",
    "from sklearn.base import BaseEstimator\n",
    "from sklearn.compose import ColumnTransformer\n",
    "from sklearn.model_selection import KFold, cross_val_score, train_test_split\n",
    "\n",
    "from imblearn.pipeline import Pipeline\n",
    "import time\n",
    "\n",
    "import csv\n",
    "import plotly.express as px\n",
    "\n",
    "import warnings\n",
    "warnings.filterwarnings('ignore')\n",
    "np.random.seed(0)\n"
   ]
  },
  {
   "cell_type": "markdown",
   "metadata": {},
   "source": [
    "# Funcstions + Model"
   ]
  },
  {
   "cell_type": "code",
   "execution_count": 7,
   "metadata": {},
   "outputs": [],
   "source": [
    "def feature_engineering(data, train=True):\n",
    "\n",
    "    port_cols = ['source_port', 'dest_port', 'nat_source_port', 'nat_dest_port']\n",
    "    if train:\n",
    "        # remove errors rows\n",
    "        data = data[~((data[\"action\"]=='allow') & (data[\"source_port\"]==0) & (data[\"dest_port\"]==0) & (data[\"nat_source_port\"]==0) & (data[\"nat_dest_port\"]==0))]\n",
    "\n",
    "    # feature engineering\n",
    "    \n",
    "    # add time related columns \n",
    "    data.loc[:,\"datetime\"] = data[\"timestamp\"].apply(lambda v: datetime.datetime.fromtimestamp(v * 0.001))\n",
    "    data.loc[:,\"day\"] = data[\"datetime\"].dt.day\n",
    "    data.loc[:,\"hour\"] = data[\"datetime\"].dt.hour\n",
    "    data.loc[:,\"year\"] = data[\"datetime\"].dt.year\n",
    "    data.loc[:,\"dayofweek\"] = data[\"datetime\"].dt.dayofweek\n",
    "\n",
    "    # add calculated columns\n",
    "    data.loc[:,'avg_bytes_received_per_packet'] = data['bytes_received'].div(data['packets_received']).replace({np.inf: 0, np.nan: 0})\n",
    "    data.loc[:,'avg_bytes_sent_per_packet'] = data['bytes_sent'].div(data['packets_sent']).replace({np.inf: 0, np.nan: 0})\n",
    "    data.loc[:,'avg_bytes_per_packet'] = data['bytes'].div(data['packets']).replace({np.inf: 0, np.nan: 0})\n",
    "    data.loc[:,\"packets_transfer_fraction\"] = data['packets_sent'].div(data['packets_received']).replace({np.inf: 0, np.nan: 0})\n",
    "    data.loc[:,'packets_per_rel_time'] = data['packets_sent'].div(data['timestamp_relative']).replace({np.inf: 0, np.nan: 0})\n",
    "    \n",
    "    # create one hot vector representation for action columns\n",
    "    data = pd.get_dummies(data, columns=['action'], prefix=['action'])\n",
    "    \n",
    "    action_cols = ['action_allow', 'action_deny', 'action_drop', 'action_reset-both']\n",
    "    for col in action_cols:\n",
    "        if col not in data.columns:\n",
    "            data[col] = 0\n",
    "    \n",
    "    # create a special column for dest_port=53 - which is relrevent for the flood attack\n",
    "    data['is_dest_port_53'] = 0\n",
    "    data.loc[data[\"dest_port\"]==53, 'is_dest_port_53'] = 1\n",
    "    \n",
    "    # categorize prot numbers + one hot vector representation\n",
    "    labels = [\"Well Known Ports\",\"Registered Ports\",\"Dynamic and/or Private Ports\"]\n",
    "    for col in port_cols:\n",
    "        ''' port numbers are divided into three categories: Well Known Ports (0 ∼ 1023), Registered Ports\n",
    "            (1024 ∼ 49151), and Dynamic and/or Private Ports (49152 ∼ 65535)'''\n",
    "        data[f\"{col}_cat\"] = pd.cut(data[col], [0, 1024, 49152, 65536],\n",
    "                           labels=labels,\n",
    "                           #include_lowest=True, \n",
    "                           right=False\n",
    "                          )\n",
    "        data = pd.get_dummies(data, columns=[f\"{col}_cat\"], prefix=[f\"{col}_cat\"])\n",
    "        data.drop([col], axis=1, inplace=True)\n",
    "        for l in labels:\n",
    "            if f\"{col}_cat_{l}\" not in data.columns:\n",
    "                data[f\"{col}_cat_{l}\"] = 0\n",
    "    data.drop([\"datetime\"], axis=1, inplace=True) \n",
    "    return data\n",
    "\n",
    "\n",
    "def data_exploration_preprocessing(train, visalizatoin=False):\n",
    "    features = train.columns.tolist()\n",
    "    \n",
    "    # Find features with correlation greater than 0.95 to drop\n",
    "    corr_matrix = train.corr().abs()\n",
    "    upper = corr_matrix.where(np.triu(np.ones(corr_matrix.shape), k=1).astype(np.bool))\n",
    "    to_drop = [column for column in upper.columns if any(upper[column] > 0.95)]\n",
    "    \n",
    "    # drop columns with constant values\n",
    "    for feat in features:\n",
    "        if train[feat].nunique() == 1:\n",
    "            to_drop.append(feat)\n",
    "            \n",
    "    use_cols = list(set(features)-set(to_drop))\n",
    "            \n",
    "    if visalizatoin:\n",
    "        train.describe().to_csv(r\"output/describe.csv\")\n",
    "        report = ProfileReport(train, title=\"Pandas Profiling Report\")\n",
    "        report.to_file(r\"Output/report.html\")\n",
    "        my_report = sv.analyze(train)  \n",
    "        my_report.show_html(filepath=r\"Output/SWEETVIZ_REPORT.html\")\n",
    "\n",
    "    return use_cols\n",
    "\n",
    "\n",
    "class FeatureEngineeringTransformer(BaseEstimator):\n",
    "    def __init__(self):\n",
    "        super().__init__()\n",
    "        self.log_columns = None\n",
    "        self.use_cols=None\n",
    "\n",
    "    def fit(self, X, y=None):\n",
    "        self.use_cols = data_exploration_preprocessing(X)\n",
    "        return self\n",
    "\n",
    "    def transform(self, X, y=None):\n",
    "#         list_cols = list(set(X)-set(self.use_cols))\n",
    "        list_cols = [c for c in self.use_cols if c in X.columns]\n",
    "        X = X[list_cols]\n",
    "        return X\n",
    "\n",
    "def plot_roc_curve(y, y_score):\n",
    "    fpr, tpr, thresholds = roc_curve(y, y_score)\n",
    "\n",
    "    fig = px.area(\n",
    "        x=fpr, y=tpr,\n",
    "        title=f'ROC Curve (AUC={auc(fpr, tpr):.4f})',\n",
    "        labels=dict(x='False Positive Rate', y='True Positive Rate'),\n",
    "        width=700, height=500\n",
    "    )\n",
    "    fig.add_shape(\n",
    "        type='line', line=dict(dash='dash'),\n",
    "        x0=0, x1=1, y0=0, y1=1\n",
    "    )\n",
    "\n",
    "    fig.update_yaxes(scaleanchor=\"x\", scaleratio=1)\n",
    "    fig.update_xaxes(constrain='domain')\n",
    "    fig.show()\n",
    "\n",
    "\n",
    "def predict_on_test(X_test, y_test, model=None):\n",
    "    if model is None and Path(f'Output/bestEstimator.pkl').exists():\n",
    "        model = joblib.load(f\"Output/bestEstimator.pkl\")\n",
    "    y_test_prediction = model.predict(X_test)\n",
    "    plot_roc_curve(y_test, y_test_prediction)\n",
    "    f1 = f1_score(y_test, y_test_prediction)\n",
    "    accuracy = accuracy_score(y_test, y_test_prediction)\n",
    "    recall = recall_score(y_test, y_test_prediction)\n",
    "    precision = precision_score(y_test, y_test_prediction)\n",
    "    print(f\"confusion_matrix: {confusion_matrix(y_test, y_test_prediction)}\")\n",
    "    print(f\"accuracy: {accuracy}\")\n",
    "    print(f\"recall: {recall}\")\n",
    "    print(f\"precision: {precision}\")\n",
    "    print(f\"f1: {f1}\")\n",
    "    return f1_score, accuracy, precision, recall\n",
    "\n",
    "\n",
    "def predict(X):\n",
    "    prediction = None\n",
    "    model = joblib.load(f\"Output/bestEstimator.pkl\")\n",
    "    prediction = model.predict(X)\n",
    "    return prediction\n",
    "\n",
    "def train(model_name, X,  y, steps):\n",
    "    cv = KFold(n_splits=3, random_state=1, shuffle=True)\n",
    "    # Fit the model according to the given training data\n",
    "    pipeline = Pipeline(steps=steps)\n",
    "    scores = cross_val_score(pipeline, X, y, scoring='f1_weighted', cv=cv)\n",
    "    with open(f'Output/results.csv', 'a') as csvfile:\n",
    "        csvwriter = csv.writer(csvfile)\n",
    "        csvwriter.writerow([model_name, scores.mean(), scores.std()])\n",
    "    return scores.mean(), scores.std()\n",
    "\n",
    "\n",
    "def run(X_train, y_train, X_test, y_test, dict_models):\n",
    "    results_path = f'Output/results.csv'\n",
    "    if not os.path.exists(results_path):\n",
    "        with open(results_path, 'a') as csvfile:\n",
    "            csvwriter = csv.writer(csvfile)\n",
    "            # writing the fields\n",
    "            csvwriter.writerow([\"model_name\", \"scores_mean\", \"scores_std\"])\n",
    "    \n",
    "    for model_name in dict_models.keys():\n",
    "        steps = [\n",
    "            ('feature_engineering', FeatureEngineeringTransformer()),\n",
    "            ('scaling', StandardScaler()),\n",
    "            ('PCA', PCA(n_components=10))]\n",
    "        scores = pd.read_csv(results_path)\n",
    "        if model_name not in scores['model_name'].unique():\n",
    "            steps.append(('model', dict_models[model_name]))\n",
    "            print (f\"running model {model_name}\")\n",
    "            t0 = time.time()\n",
    "            train(model_name, X_train, y_train, steps)\n",
    "            t1 = time.time()\n",
    "            print (f\"Total time:{t1-t0}\")\n",
    "    scores = pd.read_csv(results_path)\n",
    "    scores = scores.sort_values(\"scores_mean\")\n",
    "    best_model_name = scores['model_name'].iloc[0]\n",
    "    steps = [\n",
    "            ('feature_engineering', FeatureEngineeringTransformer()),\n",
    "            ('scaling', StandardScaler()),\n",
    "            ('PCA', PCA(n_components=20))]\n",
    "    print (f\"best model found: {best_model_name}\")\n",
    "    steps.append(('model', dict_models[best_model_name]))\n",
    "    pipeline = Pipeline(steps=steps)\n",
    "    pipeline.fit(X_train)\n",
    "    joblib.dump(pipeline, f\"Output/bestEstimator.pkl\", compress=1)\n",
    "    predict_on_test(X_test, y_test, model=pipeline)\n",
    "    "
   ]
  },
  {
   "cell_type": "markdown",
   "metadata": {},
   "source": [
    "# One-class classification\n",
    "\n",
    "In one-class classification we are always dealing with a two-class classification problem, where each of the two classes have a special meaning.The two classes are called the target and the outlier class respectively:\n",
    "- target class: this class is assumed to be sampled well, in the sense that of this class many (training) example objects are available. It does not necessarily mean that the sampling of the training set is done completely according to the target distribution found in practice.It is assumed though, that the training data reflect the area that the target data covers in the feature space.\n",
    "- outlier class: this class can be sampled very sparsely, or can be totally absent.\n",
    "\n",
    "I will compare three models for outliers/anomaly detection: \n",
    "1. OneClassSVM\n",
    "2. IForest\n",
    "3. RobustCovariance\n",
    "\n",
    "# Load Data + Data exploration + Processing \n",
    "\n",
    "statistical info of data can be find in Output folder\n",
    "\n",
    "- since ports number have many unique values I have decided to categorize them to 3 sections and then do one hot vector representation.\n",
    "- some features are highly correlated\n",
    "- some features are skewd \n",
    "- there are no missing data\n",
    "- unrelevant rows were removed\n",
    "\n",
    "# Process: \n",
    "\n",
    "1. add engeneered columns + transform categorical columns to one hot vector representation\n",
    "2. remove constant columns + highly correlated columns\n",
    "3. scaling \n",
    "4. dimenstion reduction using pca\n",
    "5. train model\n",
    "6. select best model on k-fold\n",
    "7. test on unseen results\n",
    "\n",
    "# Ideas for future work:\n",
    "\n",
    "1. exmaing more hyper-parameters tuning for the compared models/PCA\n",
    "2. examine different feature selection models/dimension reduction \n",
    "3. use oversampling/undersampling\n",
    "4. compare to rule based model"
   ]
  },
  {
   "cell_type": "code",
   "execution_count": 8,
   "metadata": {},
   "outputs": [
    {
     "data": {
      "text/html": [
       "<div>\n",
       "<style scoped>\n",
       "    .dataframe tbody tr th:only-of-type {\n",
       "        vertical-align: middle;\n",
       "    }\n",
       "\n",
       "    .dataframe tbody tr th {\n",
       "        vertical-align: top;\n",
       "    }\n",
       "\n",
       "    .dataframe thead th {\n",
       "        text-align: right;\n",
       "    }\n",
       "</style>\n",
       "<table border=\"1\" class=\"dataframe\">\n",
       "  <thead>\n",
       "    <tr style=\"text-align: right;\">\n",
       "      <th></th>\n",
       "      <th>bytes</th>\n",
       "      <th>bytes_sent</th>\n",
       "      <th>bytes_received</th>\n",
       "      <th>packets</th>\n",
       "      <th>time_elapsed_sec</th>\n",
       "      <th>timestamp</th>\n",
       "      <th>ts_ret_a</th>\n",
       "      <th>timestamp_relative</th>\n",
       "      <th>packets_sent</th>\n",
       "      <th>packets_received</th>\n",
       "      <th>...</th>\n",
       "      <th>dest_port_cat_Well Known Ports</th>\n",
       "      <th>dest_port_cat_Registered Ports</th>\n",
       "      <th>dest_port_cat_Dynamic and/or Private Ports</th>\n",
       "      <th>nat_source_port_cat_Well Known Ports</th>\n",
       "      <th>nat_source_port_cat_Registered Ports</th>\n",
       "      <th>nat_source_port_cat_Dynamic and/or Private Ports</th>\n",
       "      <th>nat_dest_port_cat_Well Known Ports</th>\n",
       "      <th>nat_dest_port_cat_Registered Ports</th>\n",
       "      <th>nat_dest_port_cat_Dynamic and/or Private Ports</th>\n",
       "      <th>label</th>\n",
       "    </tr>\n",
       "  </thead>\n",
       "  <tbody>\n",
       "    <tr>\n",
       "      <th>0</th>\n",
       "      <td>177</td>\n",
       "      <td>94</td>\n",
       "      <td>83</td>\n",
       "      <td>2</td>\n",
       "      <td>30</td>\n",
       "      <td>1552573800000</td>\n",
       "      <td>0</td>\n",
       "      <td>0</td>\n",
       "      <td>1</td>\n",
       "      <td>1</td>\n",
       "      <td>...</td>\n",
       "      <td>1</td>\n",
       "      <td>0</td>\n",
       "      <td>0</td>\n",
       "      <td>0</td>\n",
       "      <td>0</td>\n",
       "      <td>1</td>\n",
       "      <td>1</td>\n",
       "      <td>0</td>\n",
       "      <td>0</td>\n",
       "      <td>1</td>\n",
       "    </tr>\n",
       "    <tr>\n",
       "      <th>1</th>\n",
       "      <td>4768</td>\n",
       "      <td>1600</td>\n",
       "      <td>3168</td>\n",
       "      <td>19</td>\n",
       "      <td>17</td>\n",
       "      <td>1552573800720</td>\n",
       "      <td>720</td>\n",
       "      <td>30</td>\n",
       "      <td>10</td>\n",
       "      <td>9</td>\n",
       "      <td>...</td>\n",
       "      <td>0</td>\n",
       "      <td>1</td>\n",
       "      <td>0</td>\n",
       "      <td>0</td>\n",
       "      <td>0</td>\n",
       "      <td>1</td>\n",
       "      <td>0</td>\n",
       "      <td>1</td>\n",
       "      <td>0</td>\n",
       "      <td>1</td>\n",
       "    </tr>\n",
       "    <tr>\n",
       "      <th>2</th>\n",
       "      <td>238</td>\n",
       "      <td>118</td>\n",
       "      <td>120</td>\n",
       "      <td>2</td>\n",
       "      <td>1199</td>\n",
       "      <td>1552573801128</td>\n",
       "      <td>1128</td>\n",
       "      <td>47</td>\n",
       "      <td>1</td>\n",
       "      <td>1</td>\n",
       "      <td>...</td>\n",
       "      <td>0</td>\n",
       "      <td>0</td>\n",
       "      <td>1</td>\n",
       "      <td>0</td>\n",
       "      <td>1</td>\n",
       "      <td>0</td>\n",
       "      <td>0</td>\n",
       "      <td>0</td>\n",
       "      <td>1</td>\n",
       "      <td>1</td>\n",
       "    </tr>\n",
       "    <tr>\n",
       "      <th>3</th>\n",
       "      <td>3327</td>\n",
       "      <td>1438</td>\n",
       "      <td>1889</td>\n",
       "      <td>15</td>\n",
       "      <td>17</td>\n",
       "      <td>1552573829904</td>\n",
       "      <td>29904</td>\n",
       "      <td>1246</td>\n",
       "      <td>8</td>\n",
       "      <td>7</td>\n",
       "      <td>...</td>\n",
       "      <td>0</td>\n",
       "      <td>1</td>\n",
       "      <td>0</td>\n",
       "      <td>0</td>\n",
       "      <td>0</td>\n",
       "      <td>1</td>\n",
       "      <td>0</td>\n",
       "      <td>1</td>\n",
       "      <td>0</td>\n",
       "      <td>1</td>\n",
       "    </tr>\n",
       "    <tr>\n",
       "      <th>4</th>\n",
       "      <td>25358</td>\n",
       "      <td>6778</td>\n",
       "      <td>18580</td>\n",
       "      <td>31</td>\n",
       "      <td>16</td>\n",
       "      <td>1552573830312</td>\n",
       "      <td>30312</td>\n",
       "      <td>1263</td>\n",
       "      <td>13</td>\n",
       "      <td>18</td>\n",
       "      <td>...</td>\n",
       "      <td>1</td>\n",
       "      <td>0</td>\n",
       "      <td>0</td>\n",
       "      <td>0</td>\n",
       "      <td>1</td>\n",
       "      <td>0</td>\n",
       "      <td>1</td>\n",
       "      <td>0</td>\n",
       "      <td>0</td>\n",
       "      <td>1</td>\n",
       "    </tr>\n",
       "    <tr>\n",
       "      <th>...</th>\n",
       "      <td>...</td>\n",
       "      <td>...</td>\n",
       "      <td>...</td>\n",
       "      <td>...</td>\n",
       "      <td>...</td>\n",
       "      <td>...</td>\n",
       "      <td>...</td>\n",
       "      <td>...</td>\n",
       "      <td>...</td>\n",
       "      <td>...</td>\n",
       "      <td>...</td>\n",
       "      <td>...</td>\n",
       "      <td>...</td>\n",
       "      <td>...</td>\n",
       "      <td>...</td>\n",
       "      <td>...</td>\n",
       "      <td>...</td>\n",
       "      <td>...</td>\n",
       "      <td>...</td>\n",
       "      <td>...</td>\n",
       "      <td>...</td>\n",
       "    </tr>\n",
       "    <tr>\n",
       "      <th>77022</th>\n",
       "      <td>18738</td>\n",
       "      <td>1904</td>\n",
       "      <td>16834</td>\n",
       "      <td>33</td>\n",
       "      <td>17</td>\n",
       "      <td>1552695184632</td>\n",
       "      <td>95598072</td>\n",
       "      <td>3983253</td>\n",
       "      <td>17</td>\n",
       "      <td>16</td>\n",
       "      <td>...</td>\n",
       "      <td>1</td>\n",
       "      <td>0</td>\n",
       "      <td>0</td>\n",
       "      <td>0</td>\n",
       "      <td>0</td>\n",
       "      <td>1</td>\n",
       "      <td>1</td>\n",
       "      <td>0</td>\n",
       "      <td>0</td>\n",
       "      <td>1</td>\n",
       "    </tr>\n",
       "    <tr>\n",
       "      <th>77023</th>\n",
       "      <td>184</td>\n",
       "      <td>94</td>\n",
       "      <td>90</td>\n",
       "      <td>2</td>\n",
       "      <td>30</td>\n",
       "      <td>1552695185040</td>\n",
       "      <td>95598480</td>\n",
       "      <td>3983270</td>\n",
       "      <td>1</td>\n",
       "      <td>1</td>\n",
       "      <td>...</td>\n",
       "      <td>1</td>\n",
       "      <td>0</td>\n",
       "      <td>0</td>\n",
       "      <td>0</td>\n",
       "      <td>1</td>\n",
       "      <td>0</td>\n",
       "      <td>1</td>\n",
       "      <td>0</td>\n",
       "      <td>0</td>\n",
       "      <td>1</td>\n",
       "    </tr>\n",
       "    <tr>\n",
       "      <th>77024</th>\n",
       "      <td>212</td>\n",
       "      <td>102</td>\n",
       "      <td>110</td>\n",
       "      <td>2</td>\n",
       "      <td>30</td>\n",
       "      <td>1552695185760</td>\n",
       "      <td>95599200</td>\n",
       "      <td>3983300</td>\n",
       "      <td>1</td>\n",
       "      <td>1</td>\n",
       "      <td>...</td>\n",
       "      <td>1</td>\n",
       "      <td>0</td>\n",
       "      <td>0</td>\n",
       "      <td>0</td>\n",
       "      <td>0</td>\n",
       "      <td>1</td>\n",
       "      <td>1</td>\n",
       "      <td>0</td>\n",
       "      <td>0</td>\n",
       "      <td>1</td>\n",
       "    </tr>\n",
       "    <tr>\n",
       "      <th>77025</th>\n",
       "      <td>177</td>\n",
       "      <td>94</td>\n",
       "      <td>83</td>\n",
       "      <td>2</td>\n",
       "      <td>30</td>\n",
       "      <td>1552695186480</td>\n",
       "      <td>95599920</td>\n",
       "      <td>3983330</td>\n",
       "      <td>1</td>\n",
       "      <td>1</td>\n",
       "      <td>...</td>\n",
       "      <td>1</td>\n",
       "      <td>0</td>\n",
       "      <td>0</td>\n",
       "      <td>0</td>\n",
       "      <td>0</td>\n",
       "      <td>1</td>\n",
       "      <td>1</td>\n",
       "      <td>0</td>\n",
       "      <td>0</td>\n",
       "      <td>1</td>\n",
       "    </tr>\n",
       "    <tr>\n",
       "      <th>77026</th>\n",
       "      <td>239209</td>\n",
       "      <td>233954</td>\n",
       "      <td>5255</td>\n",
       "      <td>28500</td>\n",
       "      <td>88</td>\n",
       "      <td>1552695187200</td>\n",
       "      <td>95600640</td>\n",
       "      <td>3983360</td>\n",
       "      <td>2822</td>\n",
       "      <td>28</td>\n",
       "      <td>...</td>\n",
       "      <td>1</td>\n",
       "      <td>0</td>\n",
       "      <td>0</td>\n",
       "      <td>0</td>\n",
       "      <td>0</td>\n",
       "      <td>1</td>\n",
       "      <td>1</td>\n",
       "      <td>0</td>\n",
       "      <td>0</td>\n",
       "      <td>-1</td>\n",
       "    </tr>\n",
       "  </tbody>\n",
       "</table>\n",
       "<p>76925 rows × 37 columns</p>\n",
       "</div>"
      ],
      "text/plain": [
       "        bytes  bytes_sent  bytes_received  packets  time_elapsed_sec  \\\n",
       "0         177          94              83        2                30   \n",
       "1        4768        1600            3168       19                17   \n",
       "2         238         118             120        2              1199   \n",
       "3        3327        1438            1889       15                17   \n",
       "4       25358        6778           18580       31                16   \n",
       "...       ...         ...             ...      ...               ...   \n",
       "77022   18738        1904           16834       33                17   \n",
       "77023     184          94              90        2                30   \n",
       "77024     212         102             110        2                30   \n",
       "77025     177          94              83        2                30   \n",
       "77026  239209      233954            5255    28500                88   \n",
       "\n",
       "           timestamp  ts_ret_a  timestamp_relative  packets_sent  \\\n",
       "0      1552573800000         0                   0             1   \n",
       "1      1552573800720       720                  30            10   \n",
       "2      1552573801128      1128                  47             1   \n",
       "3      1552573829904     29904                1246             8   \n",
       "4      1552573830312     30312                1263            13   \n",
       "...              ...       ...                 ...           ...   \n",
       "77022  1552695184632  95598072             3983253            17   \n",
       "77023  1552695185040  95598480             3983270             1   \n",
       "77024  1552695185760  95599200             3983300             1   \n",
       "77025  1552695186480  95599920             3983330             1   \n",
       "77026  1552695187200  95600640             3983360          2822   \n",
       "\n",
       "       packets_received  ...  dest_port_cat_Well Known Ports  \\\n",
       "0                     1  ...                               1   \n",
       "1                     9  ...                               0   \n",
       "2                     1  ...                               0   \n",
       "3                     7  ...                               0   \n",
       "4                    18  ...                               1   \n",
       "...                 ...  ...                             ...   \n",
       "77022                16  ...                               1   \n",
       "77023                 1  ...                               1   \n",
       "77024                 1  ...                               1   \n",
       "77025                 1  ...                               1   \n",
       "77026                28  ...                               1   \n",
       "\n",
       "       dest_port_cat_Registered Ports  \\\n",
       "0                                   0   \n",
       "1                                   1   \n",
       "2                                   0   \n",
       "3                                   1   \n",
       "4                                   0   \n",
       "...                               ...   \n",
       "77022                               0   \n",
       "77023                               0   \n",
       "77024                               0   \n",
       "77025                               0   \n",
       "77026                               0   \n",
       "\n",
       "       dest_port_cat_Dynamic and/or Private Ports  \\\n",
       "0                                               0   \n",
       "1                                               0   \n",
       "2                                               1   \n",
       "3                                               0   \n",
       "4                                               0   \n",
       "...                                           ...   \n",
       "77022                                           0   \n",
       "77023                                           0   \n",
       "77024                                           0   \n",
       "77025                                           0   \n",
       "77026                                           0   \n",
       "\n",
       "       nat_source_port_cat_Well Known Ports  \\\n",
       "0                                         0   \n",
       "1                                         0   \n",
       "2                                         0   \n",
       "3                                         0   \n",
       "4                                         0   \n",
       "...                                     ...   \n",
       "77022                                     0   \n",
       "77023                                     0   \n",
       "77024                                     0   \n",
       "77025                                     0   \n",
       "77026                                     0   \n",
       "\n",
       "       nat_source_port_cat_Registered Ports  \\\n",
       "0                                         0   \n",
       "1                                         0   \n",
       "2                                         1   \n",
       "3                                         0   \n",
       "4                                         1   \n",
       "...                                     ...   \n",
       "77022                                     0   \n",
       "77023                                     1   \n",
       "77024                                     0   \n",
       "77025                                     0   \n",
       "77026                                     0   \n",
       "\n",
       "       nat_source_port_cat_Dynamic and/or Private Ports  \\\n",
       "0                                                     1   \n",
       "1                                                     1   \n",
       "2                                                     0   \n",
       "3                                                     1   \n",
       "4                                                     0   \n",
       "...                                                 ...   \n",
       "77022                                                 1   \n",
       "77023                                                 0   \n",
       "77024                                                 1   \n",
       "77025                                                 1   \n",
       "77026                                                 1   \n",
       "\n",
       "       nat_dest_port_cat_Well Known Ports  nat_dest_port_cat_Registered Ports  \\\n",
       "0                                       1                                   0   \n",
       "1                                       0                                   1   \n",
       "2                                       0                                   0   \n",
       "3                                       0                                   1   \n",
       "4                                       1                                   0   \n",
       "...                                   ...                                 ...   \n",
       "77022                                   1                                   0   \n",
       "77023                                   1                                   0   \n",
       "77024                                   1                                   0   \n",
       "77025                                   1                                   0   \n",
       "77026                                   1                                   0   \n",
       "\n",
       "       nat_dest_port_cat_Dynamic and/or Private Ports  label  \n",
       "0                                                   0      1  \n",
       "1                                                   0      1  \n",
       "2                                                   1      1  \n",
       "3                                                   0      1  \n",
       "4                                                   0      1  \n",
       "...                                               ...    ...  \n",
       "77022                                               0      1  \n",
       "77023                                               0      1  \n",
       "77024                                               0      1  \n",
       "77025                                               0      1  \n",
       "77026                                               0     -1  \n",
       "\n",
       "[76925 rows x 37 columns]"
      ]
     },
     "metadata": {},
     "output_type": "display_data"
    },
    {
     "data": {
      "application/vnd.jupyter.widget-view+json": {
       "model_id": "715fb984bd3e4200b5a688d34edcbcfe",
       "version_major": 2,
       "version_minor": 0
      },
      "text/plain": [
       "HBox(children=(FloatProgress(value=0.0, description='Summarize dataset', max=50.0, style=ProgressStyle(descrip…"
      ]
     },
     "metadata": {},
     "output_type": "display_data"
    },
    {
     "name": "stdout",
     "output_type": "stream",
     "text": [
      "\n"
     ]
    },
    {
     "data": {
      "application/vnd.jupyter.widget-view+json": {
       "model_id": "445ba7c1c80c4a378c1168e3bad6536f",
       "version_major": 2,
       "version_minor": 0
      },
      "text/plain": [
       "HBox(children=(FloatProgress(value=0.0, description='Generate report structure', max=1.0, style=ProgressStyle(…"
      ]
     },
     "metadata": {},
     "output_type": "display_data"
    },
    {
     "name": "stdout",
     "output_type": "stream",
     "text": [
      "\n"
     ]
    },
    {
     "data": {
      "application/vnd.jupyter.widget-view+json": {
       "model_id": "684c2561102446fd8103a39d2b01074c",
       "version_major": 2,
       "version_minor": 0
      },
      "text/plain": [
       "HBox(children=(FloatProgress(value=0.0, description='Render HTML', max=1.0, style=ProgressStyle(description_wi…"
      ]
     },
     "metadata": {},
     "output_type": "display_data"
    },
    {
     "name": "stdout",
     "output_type": "stream",
     "text": [
      "\n"
     ]
    },
    {
     "data": {
      "application/vnd.jupyter.widget-view+json": {
       "model_id": "ef9f0c404f19417da2dc4abb2e55b030",
       "version_major": 2,
       "version_minor": 0
      },
      "text/plain": [
       "HBox(children=(FloatProgress(value=0.0, description='Export report to file', max=1.0, style=ProgressStyle(desc…"
      ]
     },
     "metadata": {},
     "output_type": "display_data"
    },
    {
     "name": "stdout",
     "output_type": "stream",
     "text": [
      "\n"
     ]
    },
    {
     "data": {
      "application/vnd.jupyter.widget-view+json": {
       "model_id": "6a81663e81134aafafbbe773672dc711",
       "version_major": 2,
       "version_minor": 0
      },
      "text/plain": [
       "HBox(children=(FloatProgress(value=0.0, layout=Layout(flex='2'), max=37.0), HTML(value='')), layout=Layout(dis…"
      ]
     },
     "metadata": {},
     "output_type": "display_data"
    },
    {
     "name": "stdout",
     "output_type": "stream",
     "text": [
      "\n",
      "Report Output/SWEETVIZ_REPORT.html was generated! NOTEBOOK/COLAB USERS: the web browser MAY not pop up, regardless, the report IS saved in your notebook/colab files.\n",
      "best model found: OneClassSVM\n"
     ]
    },
    {
     "data": {
      "application/vnd.plotly.v1+json": {
       "config": {
        "plotlyServerURL": "https://plot.ly"
       },
       "data": [
        {
         "hovertemplate": "False Positive Rate=%{x}<br>True Positive Rate=%{y}<extra></extra>",
         "legendgroup": "",
         "line": {
          "color": "#636efa"
         },
         "mode": "lines",
         "name": "",
         "orientation": "v",
         "showlegend": false,
         "stackgroup": "1",
         "type": "scatter",
         "x": [
          0,
          0,
          1
         ],
         "xaxis": "x",
         "y": [
          0,
          0.746139046331444,
          1
         ],
         "yaxis": "y"
        }
       ],
       "layout": {
        "height": 500,
        "legend": {
         "tracegroupgap": 0
        },
        "shapes": [
         {
          "line": {
           "dash": "dash"
          },
          "type": "line",
          "x0": 0,
          "x1": 1,
          "y0": 0,
          "y1": 1
         }
        ],
        "template": {
         "data": {
          "bar": [
           {
            "error_x": {
             "color": "#2a3f5f"
            },
            "error_y": {
             "color": "#2a3f5f"
            },
            "marker": {
             "line": {
              "color": "#E5ECF6",
              "width": 0.5
             }
            },
            "type": "bar"
           }
          ],
          "barpolar": [
           {
            "marker": {
             "line": {
              "color": "#E5ECF6",
              "width": 0.5
             }
            },
            "type": "barpolar"
           }
          ],
          "carpet": [
           {
            "aaxis": {
             "endlinecolor": "#2a3f5f",
             "gridcolor": "white",
             "linecolor": "white",
             "minorgridcolor": "white",
             "startlinecolor": "#2a3f5f"
            },
            "baxis": {
             "endlinecolor": "#2a3f5f",
             "gridcolor": "white",
             "linecolor": "white",
             "minorgridcolor": "white",
             "startlinecolor": "#2a3f5f"
            },
            "type": "carpet"
           }
          ],
          "choropleth": [
           {
            "colorbar": {
             "outlinewidth": 0,
             "ticks": ""
            },
            "type": "choropleth"
           }
          ],
          "contour": [
           {
            "colorbar": {
             "outlinewidth": 0,
             "ticks": ""
            },
            "colorscale": [
             [
              0,
              "#0d0887"
             ],
             [
              0.1111111111111111,
              "#46039f"
             ],
             [
              0.2222222222222222,
              "#7201a8"
             ],
             [
              0.3333333333333333,
              "#9c179e"
             ],
             [
              0.4444444444444444,
              "#bd3786"
             ],
             [
              0.5555555555555556,
              "#d8576b"
             ],
             [
              0.6666666666666666,
              "#ed7953"
             ],
             [
              0.7777777777777778,
              "#fb9f3a"
             ],
             [
              0.8888888888888888,
              "#fdca26"
             ],
             [
              1,
              "#f0f921"
             ]
            ],
            "type": "contour"
           }
          ],
          "contourcarpet": [
           {
            "colorbar": {
             "outlinewidth": 0,
             "ticks": ""
            },
            "type": "contourcarpet"
           }
          ],
          "heatmap": [
           {
            "colorbar": {
             "outlinewidth": 0,
             "ticks": ""
            },
            "colorscale": [
             [
              0,
              "#0d0887"
             ],
             [
              0.1111111111111111,
              "#46039f"
             ],
             [
              0.2222222222222222,
              "#7201a8"
             ],
             [
              0.3333333333333333,
              "#9c179e"
             ],
             [
              0.4444444444444444,
              "#bd3786"
             ],
             [
              0.5555555555555556,
              "#d8576b"
             ],
             [
              0.6666666666666666,
              "#ed7953"
             ],
             [
              0.7777777777777778,
              "#fb9f3a"
             ],
             [
              0.8888888888888888,
              "#fdca26"
             ],
             [
              1,
              "#f0f921"
             ]
            ],
            "type": "heatmap"
           }
          ],
          "heatmapgl": [
           {
            "colorbar": {
             "outlinewidth": 0,
             "ticks": ""
            },
            "colorscale": [
             [
              0,
              "#0d0887"
             ],
             [
              0.1111111111111111,
              "#46039f"
             ],
             [
              0.2222222222222222,
              "#7201a8"
             ],
             [
              0.3333333333333333,
              "#9c179e"
             ],
             [
              0.4444444444444444,
              "#bd3786"
             ],
             [
              0.5555555555555556,
              "#d8576b"
             ],
             [
              0.6666666666666666,
              "#ed7953"
             ],
             [
              0.7777777777777778,
              "#fb9f3a"
             ],
             [
              0.8888888888888888,
              "#fdca26"
             ],
             [
              1,
              "#f0f921"
             ]
            ],
            "type": "heatmapgl"
           }
          ],
          "histogram": [
           {
            "marker": {
             "colorbar": {
              "outlinewidth": 0,
              "ticks": ""
             }
            },
            "type": "histogram"
           }
          ],
          "histogram2d": [
           {
            "colorbar": {
             "outlinewidth": 0,
             "ticks": ""
            },
            "colorscale": [
             [
              0,
              "#0d0887"
             ],
             [
              0.1111111111111111,
              "#46039f"
             ],
             [
              0.2222222222222222,
              "#7201a8"
             ],
             [
              0.3333333333333333,
              "#9c179e"
             ],
             [
              0.4444444444444444,
              "#bd3786"
             ],
             [
              0.5555555555555556,
              "#d8576b"
             ],
             [
              0.6666666666666666,
              "#ed7953"
             ],
             [
              0.7777777777777778,
              "#fb9f3a"
             ],
             [
              0.8888888888888888,
              "#fdca26"
             ],
             [
              1,
              "#f0f921"
             ]
            ],
            "type": "histogram2d"
           }
          ],
          "histogram2dcontour": [
           {
            "colorbar": {
             "outlinewidth": 0,
             "ticks": ""
            },
            "colorscale": [
             [
              0,
              "#0d0887"
             ],
             [
              0.1111111111111111,
              "#46039f"
             ],
             [
              0.2222222222222222,
              "#7201a8"
             ],
             [
              0.3333333333333333,
              "#9c179e"
             ],
             [
              0.4444444444444444,
              "#bd3786"
             ],
             [
              0.5555555555555556,
              "#d8576b"
             ],
             [
              0.6666666666666666,
              "#ed7953"
             ],
             [
              0.7777777777777778,
              "#fb9f3a"
             ],
             [
              0.8888888888888888,
              "#fdca26"
             ],
             [
              1,
              "#f0f921"
             ]
            ],
            "type": "histogram2dcontour"
           }
          ],
          "mesh3d": [
           {
            "colorbar": {
             "outlinewidth": 0,
             "ticks": ""
            },
            "type": "mesh3d"
           }
          ],
          "parcoords": [
           {
            "line": {
             "colorbar": {
              "outlinewidth": 0,
              "ticks": ""
             }
            },
            "type": "parcoords"
           }
          ],
          "pie": [
           {
            "automargin": true,
            "type": "pie"
           }
          ],
          "scatter": [
           {
            "marker": {
             "colorbar": {
              "outlinewidth": 0,
              "ticks": ""
             }
            },
            "type": "scatter"
           }
          ],
          "scatter3d": [
           {
            "line": {
             "colorbar": {
              "outlinewidth": 0,
              "ticks": ""
             }
            },
            "marker": {
             "colorbar": {
              "outlinewidth": 0,
              "ticks": ""
             }
            },
            "type": "scatter3d"
           }
          ],
          "scattercarpet": [
           {
            "marker": {
             "colorbar": {
              "outlinewidth": 0,
              "ticks": ""
             }
            },
            "type": "scattercarpet"
           }
          ],
          "scattergeo": [
           {
            "marker": {
             "colorbar": {
              "outlinewidth": 0,
              "ticks": ""
             }
            },
            "type": "scattergeo"
           }
          ],
          "scattergl": [
           {
            "marker": {
             "colorbar": {
              "outlinewidth": 0,
              "ticks": ""
             }
            },
            "type": "scattergl"
           }
          ],
          "scattermapbox": [
           {
            "marker": {
             "colorbar": {
              "outlinewidth": 0,
              "ticks": ""
             }
            },
            "type": "scattermapbox"
           }
          ],
          "scatterpolar": [
           {
            "marker": {
             "colorbar": {
              "outlinewidth": 0,
              "ticks": ""
             }
            },
            "type": "scatterpolar"
           }
          ],
          "scatterpolargl": [
           {
            "marker": {
             "colorbar": {
              "outlinewidth": 0,
              "ticks": ""
             }
            },
            "type": "scatterpolargl"
           }
          ],
          "scatterternary": [
           {
            "marker": {
             "colorbar": {
              "outlinewidth": 0,
              "ticks": ""
             }
            },
            "type": "scatterternary"
           }
          ],
          "surface": [
           {
            "colorbar": {
             "outlinewidth": 0,
             "ticks": ""
            },
            "colorscale": [
             [
              0,
              "#0d0887"
             ],
             [
              0.1111111111111111,
              "#46039f"
             ],
             [
              0.2222222222222222,
              "#7201a8"
             ],
             [
              0.3333333333333333,
              "#9c179e"
             ],
             [
              0.4444444444444444,
              "#bd3786"
             ],
             [
              0.5555555555555556,
              "#d8576b"
             ],
             [
              0.6666666666666666,
              "#ed7953"
             ],
             [
              0.7777777777777778,
              "#fb9f3a"
             ],
             [
              0.8888888888888888,
              "#fdca26"
             ],
             [
              1,
              "#f0f921"
             ]
            ],
            "type": "surface"
           }
          ],
          "table": [
           {
            "cells": {
             "fill": {
              "color": "#EBF0F8"
             },
             "line": {
              "color": "white"
             }
            },
            "header": {
             "fill": {
              "color": "#C8D4E3"
             },
             "line": {
              "color": "white"
             }
            },
            "type": "table"
           }
          ]
         },
         "layout": {
          "annotationdefaults": {
           "arrowcolor": "#2a3f5f",
           "arrowhead": 0,
           "arrowwidth": 1
          },
          "autotypenumbers": "strict",
          "coloraxis": {
           "colorbar": {
            "outlinewidth": 0,
            "ticks": ""
           }
          },
          "colorscale": {
           "diverging": [
            [
             0,
             "#8e0152"
            ],
            [
             0.1,
             "#c51b7d"
            ],
            [
             0.2,
             "#de77ae"
            ],
            [
             0.3,
             "#f1b6da"
            ],
            [
             0.4,
             "#fde0ef"
            ],
            [
             0.5,
             "#f7f7f7"
            ],
            [
             0.6,
             "#e6f5d0"
            ],
            [
             0.7,
             "#b8e186"
            ],
            [
             0.8,
             "#7fbc41"
            ],
            [
             0.9,
             "#4d9221"
            ],
            [
             1,
             "#276419"
            ]
           ],
           "sequential": [
            [
             0,
             "#0d0887"
            ],
            [
             0.1111111111111111,
             "#46039f"
            ],
            [
             0.2222222222222222,
             "#7201a8"
            ],
            [
             0.3333333333333333,
             "#9c179e"
            ],
            [
             0.4444444444444444,
             "#bd3786"
            ],
            [
             0.5555555555555556,
             "#d8576b"
            ],
            [
             0.6666666666666666,
             "#ed7953"
            ],
            [
             0.7777777777777778,
             "#fb9f3a"
            ],
            [
             0.8888888888888888,
             "#fdca26"
            ],
            [
             1,
             "#f0f921"
            ]
           ],
           "sequentialminus": [
            [
             0,
             "#0d0887"
            ],
            [
             0.1111111111111111,
             "#46039f"
            ],
            [
             0.2222222222222222,
             "#7201a8"
            ],
            [
             0.3333333333333333,
             "#9c179e"
            ],
            [
             0.4444444444444444,
             "#bd3786"
            ],
            [
             0.5555555555555556,
             "#d8576b"
            ],
            [
             0.6666666666666666,
             "#ed7953"
            ],
            [
             0.7777777777777778,
             "#fb9f3a"
            ],
            [
             0.8888888888888888,
             "#fdca26"
            ],
            [
             1,
             "#f0f921"
            ]
           ]
          },
          "colorway": [
           "#636efa",
           "#EF553B",
           "#00cc96",
           "#ab63fa",
           "#FFA15A",
           "#19d3f3",
           "#FF6692",
           "#B6E880",
           "#FF97FF",
           "#FECB52"
          ],
          "font": {
           "color": "#2a3f5f"
          },
          "geo": {
           "bgcolor": "white",
           "lakecolor": "white",
           "landcolor": "#E5ECF6",
           "showlakes": true,
           "showland": true,
           "subunitcolor": "white"
          },
          "hoverlabel": {
           "align": "left"
          },
          "hovermode": "closest",
          "mapbox": {
           "style": "light"
          },
          "paper_bgcolor": "white",
          "plot_bgcolor": "#E5ECF6",
          "polar": {
           "angularaxis": {
            "gridcolor": "white",
            "linecolor": "white",
            "ticks": ""
           },
           "bgcolor": "#E5ECF6",
           "radialaxis": {
            "gridcolor": "white",
            "linecolor": "white",
            "ticks": ""
           }
          },
          "scene": {
           "xaxis": {
            "backgroundcolor": "#E5ECF6",
            "gridcolor": "white",
            "gridwidth": 2,
            "linecolor": "white",
            "showbackground": true,
            "ticks": "",
            "zerolinecolor": "white"
           },
           "yaxis": {
            "backgroundcolor": "#E5ECF6",
            "gridcolor": "white",
            "gridwidth": 2,
            "linecolor": "white",
            "showbackground": true,
            "ticks": "",
            "zerolinecolor": "white"
           },
           "zaxis": {
            "backgroundcolor": "#E5ECF6",
            "gridcolor": "white",
            "gridwidth": 2,
            "linecolor": "white",
            "showbackground": true,
            "ticks": "",
            "zerolinecolor": "white"
           }
          },
          "shapedefaults": {
           "line": {
            "color": "#2a3f5f"
           }
          },
          "ternary": {
           "aaxis": {
            "gridcolor": "white",
            "linecolor": "white",
            "ticks": ""
           },
           "baxis": {
            "gridcolor": "white",
            "linecolor": "white",
            "ticks": ""
           },
           "bgcolor": "#E5ECF6",
           "caxis": {
            "gridcolor": "white",
            "linecolor": "white",
            "ticks": ""
           }
          },
          "title": {
           "x": 0.05
          },
          "xaxis": {
           "automargin": true,
           "gridcolor": "white",
           "linecolor": "white",
           "ticks": "",
           "title": {
            "standoff": 15
           },
           "zerolinecolor": "white",
           "zerolinewidth": 2
          },
          "yaxis": {
           "automargin": true,
           "gridcolor": "white",
           "linecolor": "white",
           "ticks": "",
           "title": {
            "standoff": 15
           },
           "zerolinecolor": "white",
           "zerolinewidth": 2
          }
         }
        },
        "title": {
         "text": "ROC Curve (AUC=0.8731)"
        },
        "width": 700,
        "xaxis": {
         "anchor": "y",
         "constrain": "domain",
         "domain": [
          0,
          1
         ],
         "title": {
          "text": "False Positive Rate"
         }
        },
        "yaxis": {
         "anchor": "x",
         "domain": [
          0,
          1
         ],
         "scaleanchor": "x",
         "scaleratio": 1,
         "title": {
          "text": "True Positive Rate"
         }
        }
       }
      },
      "text/html": [
       "<div>                            <div id=\"e8e2824a-9aa2-4cbf-8353-80028f331150\" class=\"plotly-graph-div\" style=\"height:500px; width:700px;\"></div>            <script type=\"text/javascript\">                require([\"plotly\"], function(Plotly) {                    window.PLOTLYENV=window.PLOTLYENV || {};                                    if (document.getElementById(\"e8e2824a-9aa2-4cbf-8353-80028f331150\")) {                    Plotly.newPlot(                        \"e8e2824a-9aa2-4cbf-8353-80028f331150\",                        [{\"hovertemplate\": \"False Positive Rate=%{x}<br>True Positive Rate=%{y}<extra></extra>\", \"legendgroup\": \"\", \"line\": {\"color\": \"#636efa\"}, \"mode\": \"lines\", \"name\": \"\", \"orientation\": \"v\", \"showlegend\": false, \"stackgroup\": \"1\", \"type\": \"scatter\", \"x\": [0.0, 0.0, 1.0], \"xaxis\": \"x\", \"y\": [0.0, 0.746139046331444, 1.0], \"yaxis\": \"y\"}],                        {\"height\": 500, \"legend\": {\"tracegroupgap\": 0}, \"shapes\": [{\"line\": {\"dash\": \"dash\"}, \"type\": \"line\", \"x0\": 0, \"x1\": 1, \"y0\": 0, \"y1\": 1}], \"template\": {\"data\": {\"bar\": [{\"error_x\": {\"color\": \"#2a3f5f\"}, \"error_y\": {\"color\": \"#2a3f5f\"}, \"marker\": {\"line\": {\"color\": \"#E5ECF6\", \"width\": 0.5}}, \"type\": \"bar\"}], \"barpolar\": [{\"marker\": {\"line\": {\"color\": \"#E5ECF6\", \"width\": 0.5}}, \"type\": \"barpolar\"}], \"carpet\": [{\"aaxis\": {\"endlinecolor\": \"#2a3f5f\", \"gridcolor\": \"white\", \"linecolor\": \"white\", \"minorgridcolor\": \"white\", \"startlinecolor\": \"#2a3f5f\"}, \"baxis\": {\"endlinecolor\": \"#2a3f5f\", \"gridcolor\": \"white\", \"linecolor\": \"white\", \"minorgridcolor\": \"white\", \"startlinecolor\": \"#2a3f5f\"}, \"type\": \"carpet\"}], \"choropleth\": [{\"colorbar\": {\"outlinewidth\": 0, \"ticks\": \"\"}, \"type\": \"choropleth\"}], \"contour\": [{\"colorbar\": {\"outlinewidth\": 0, \"ticks\": \"\"}, \"colorscale\": [[0.0, \"#0d0887\"], [0.1111111111111111, \"#46039f\"], [0.2222222222222222, \"#7201a8\"], [0.3333333333333333, \"#9c179e\"], [0.4444444444444444, \"#bd3786\"], [0.5555555555555556, \"#d8576b\"], [0.6666666666666666, \"#ed7953\"], [0.7777777777777778, \"#fb9f3a\"], [0.8888888888888888, \"#fdca26\"], [1.0, \"#f0f921\"]], \"type\": \"contour\"}], \"contourcarpet\": [{\"colorbar\": {\"outlinewidth\": 0, \"ticks\": \"\"}, \"type\": \"contourcarpet\"}], \"heatmap\": [{\"colorbar\": {\"outlinewidth\": 0, \"ticks\": \"\"}, \"colorscale\": [[0.0, \"#0d0887\"], [0.1111111111111111, \"#46039f\"], [0.2222222222222222, \"#7201a8\"], [0.3333333333333333, \"#9c179e\"], [0.4444444444444444, \"#bd3786\"], [0.5555555555555556, \"#d8576b\"], [0.6666666666666666, \"#ed7953\"], [0.7777777777777778, \"#fb9f3a\"], [0.8888888888888888, \"#fdca26\"], [1.0, \"#f0f921\"]], \"type\": \"heatmap\"}], \"heatmapgl\": [{\"colorbar\": {\"outlinewidth\": 0, \"ticks\": \"\"}, \"colorscale\": [[0.0, \"#0d0887\"], [0.1111111111111111, \"#46039f\"], [0.2222222222222222, \"#7201a8\"], [0.3333333333333333, \"#9c179e\"], [0.4444444444444444, \"#bd3786\"], [0.5555555555555556, \"#d8576b\"], [0.6666666666666666, \"#ed7953\"], [0.7777777777777778, \"#fb9f3a\"], [0.8888888888888888, \"#fdca26\"], [1.0, \"#f0f921\"]], \"type\": \"heatmapgl\"}], \"histogram\": [{\"marker\": {\"colorbar\": {\"outlinewidth\": 0, \"ticks\": \"\"}}, \"type\": \"histogram\"}], \"histogram2d\": [{\"colorbar\": {\"outlinewidth\": 0, \"ticks\": \"\"}, \"colorscale\": [[0.0, \"#0d0887\"], [0.1111111111111111, \"#46039f\"], [0.2222222222222222, \"#7201a8\"], [0.3333333333333333, \"#9c179e\"], [0.4444444444444444, \"#bd3786\"], [0.5555555555555556, \"#d8576b\"], [0.6666666666666666, \"#ed7953\"], [0.7777777777777778, \"#fb9f3a\"], [0.8888888888888888, \"#fdca26\"], [1.0, \"#f0f921\"]], \"type\": \"histogram2d\"}], \"histogram2dcontour\": [{\"colorbar\": {\"outlinewidth\": 0, \"ticks\": \"\"}, \"colorscale\": [[0.0, \"#0d0887\"], [0.1111111111111111, \"#46039f\"], [0.2222222222222222, \"#7201a8\"], [0.3333333333333333, \"#9c179e\"], [0.4444444444444444, \"#bd3786\"], [0.5555555555555556, \"#d8576b\"], [0.6666666666666666, \"#ed7953\"], [0.7777777777777778, \"#fb9f3a\"], [0.8888888888888888, \"#fdca26\"], [1.0, \"#f0f921\"]], \"type\": \"histogram2dcontour\"}], \"mesh3d\": [{\"colorbar\": {\"outlinewidth\": 0, \"ticks\": \"\"}, \"type\": \"mesh3d\"}], \"parcoords\": [{\"line\": {\"colorbar\": {\"outlinewidth\": 0, \"ticks\": \"\"}}, \"type\": \"parcoords\"}], \"pie\": [{\"automargin\": true, \"type\": \"pie\"}], \"scatter\": [{\"marker\": {\"colorbar\": {\"outlinewidth\": 0, \"ticks\": \"\"}}, \"type\": \"scatter\"}], \"scatter3d\": [{\"line\": {\"colorbar\": {\"outlinewidth\": 0, \"ticks\": \"\"}}, \"marker\": {\"colorbar\": {\"outlinewidth\": 0, \"ticks\": \"\"}}, \"type\": \"scatter3d\"}], \"scattercarpet\": [{\"marker\": {\"colorbar\": {\"outlinewidth\": 0, \"ticks\": \"\"}}, \"type\": \"scattercarpet\"}], \"scattergeo\": [{\"marker\": {\"colorbar\": {\"outlinewidth\": 0, \"ticks\": \"\"}}, \"type\": \"scattergeo\"}], \"scattergl\": [{\"marker\": {\"colorbar\": {\"outlinewidth\": 0, \"ticks\": \"\"}}, \"type\": \"scattergl\"}], \"scattermapbox\": [{\"marker\": {\"colorbar\": {\"outlinewidth\": 0, \"ticks\": \"\"}}, \"type\": \"scattermapbox\"}], \"scatterpolar\": [{\"marker\": {\"colorbar\": {\"outlinewidth\": 0, \"ticks\": \"\"}}, \"type\": \"scatterpolar\"}], \"scatterpolargl\": [{\"marker\": {\"colorbar\": {\"outlinewidth\": 0, \"ticks\": \"\"}}, \"type\": \"scatterpolargl\"}], \"scatterternary\": [{\"marker\": {\"colorbar\": {\"outlinewidth\": 0, \"ticks\": \"\"}}, \"type\": \"scatterternary\"}], \"surface\": [{\"colorbar\": {\"outlinewidth\": 0, \"ticks\": \"\"}, \"colorscale\": [[0.0, \"#0d0887\"], [0.1111111111111111, \"#46039f\"], [0.2222222222222222, \"#7201a8\"], [0.3333333333333333, \"#9c179e\"], [0.4444444444444444, \"#bd3786\"], [0.5555555555555556, \"#d8576b\"], [0.6666666666666666, \"#ed7953\"], [0.7777777777777778, \"#fb9f3a\"], [0.8888888888888888, \"#fdca26\"], [1.0, \"#f0f921\"]], \"type\": \"surface\"}], \"table\": [{\"cells\": {\"fill\": {\"color\": \"#EBF0F8\"}, \"line\": {\"color\": \"white\"}}, \"header\": {\"fill\": {\"color\": \"#C8D4E3\"}, \"line\": {\"color\": \"white\"}}, \"type\": \"table\"}]}, \"layout\": {\"annotationdefaults\": {\"arrowcolor\": \"#2a3f5f\", \"arrowhead\": 0, \"arrowwidth\": 1}, \"autotypenumbers\": \"strict\", \"coloraxis\": {\"colorbar\": {\"outlinewidth\": 0, \"ticks\": \"\"}}, \"colorscale\": {\"diverging\": [[0, \"#8e0152\"], [0.1, \"#c51b7d\"], [0.2, \"#de77ae\"], [0.3, \"#f1b6da\"], [0.4, \"#fde0ef\"], [0.5, \"#f7f7f7\"], [0.6, \"#e6f5d0\"], [0.7, \"#b8e186\"], [0.8, \"#7fbc41\"], [0.9, \"#4d9221\"], [1, \"#276419\"]], \"sequential\": [[0.0, \"#0d0887\"], [0.1111111111111111, \"#46039f\"], [0.2222222222222222, \"#7201a8\"], [0.3333333333333333, \"#9c179e\"], [0.4444444444444444, \"#bd3786\"], [0.5555555555555556, \"#d8576b\"], [0.6666666666666666, \"#ed7953\"], [0.7777777777777778, \"#fb9f3a\"], [0.8888888888888888, \"#fdca26\"], [1.0, \"#f0f921\"]], \"sequentialminus\": [[0.0, \"#0d0887\"], [0.1111111111111111, \"#46039f\"], [0.2222222222222222, \"#7201a8\"], [0.3333333333333333, \"#9c179e\"], [0.4444444444444444, \"#bd3786\"], [0.5555555555555556, \"#d8576b\"], [0.6666666666666666, \"#ed7953\"], [0.7777777777777778, \"#fb9f3a\"], [0.8888888888888888, \"#fdca26\"], [1.0, \"#f0f921\"]]}, \"colorway\": [\"#636efa\", \"#EF553B\", \"#00cc96\", \"#ab63fa\", \"#FFA15A\", \"#19d3f3\", \"#FF6692\", \"#B6E880\", \"#FF97FF\", \"#FECB52\"], \"font\": {\"color\": \"#2a3f5f\"}, \"geo\": {\"bgcolor\": \"white\", \"lakecolor\": \"white\", \"landcolor\": \"#E5ECF6\", \"showlakes\": true, \"showland\": true, \"subunitcolor\": \"white\"}, \"hoverlabel\": {\"align\": \"left\"}, \"hovermode\": \"closest\", \"mapbox\": {\"style\": \"light\"}, \"paper_bgcolor\": \"white\", \"plot_bgcolor\": \"#E5ECF6\", \"polar\": {\"angularaxis\": {\"gridcolor\": \"white\", \"linecolor\": \"white\", \"ticks\": \"\"}, \"bgcolor\": \"#E5ECF6\", \"radialaxis\": {\"gridcolor\": \"white\", \"linecolor\": \"white\", \"ticks\": \"\"}}, \"scene\": {\"xaxis\": {\"backgroundcolor\": \"#E5ECF6\", \"gridcolor\": \"white\", \"gridwidth\": 2, \"linecolor\": \"white\", \"showbackground\": true, \"ticks\": \"\", \"zerolinecolor\": \"white\"}, \"yaxis\": {\"backgroundcolor\": \"#E5ECF6\", \"gridcolor\": \"white\", \"gridwidth\": 2, \"linecolor\": \"white\", \"showbackground\": true, \"ticks\": \"\", \"zerolinecolor\": \"white\"}, \"zaxis\": {\"backgroundcolor\": \"#E5ECF6\", \"gridcolor\": \"white\", \"gridwidth\": 2, \"linecolor\": \"white\", \"showbackground\": true, \"ticks\": \"\", \"zerolinecolor\": \"white\"}}, \"shapedefaults\": {\"line\": {\"color\": \"#2a3f5f\"}}, \"ternary\": {\"aaxis\": {\"gridcolor\": \"white\", \"linecolor\": \"white\", \"ticks\": \"\"}, \"baxis\": {\"gridcolor\": \"white\", \"linecolor\": \"white\", \"ticks\": \"\"}, \"bgcolor\": \"#E5ECF6\", \"caxis\": {\"gridcolor\": \"white\", \"linecolor\": \"white\", \"ticks\": \"\"}}, \"title\": {\"x\": 0.05}, \"xaxis\": {\"automargin\": true, \"gridcolor\": \"white\", \"linecolor\": \"white\", \"ticks\": \"\", \"title\": {\"standoff\": 15}, \"zerolinecolor\": \"white\", \"zerolinewidth\": 2}, \"yaxis\": {\"automargin\": true, \"gridcolor\": \"white\", \"linecolor\": \"white\", \"ticks\": \"\", \"title\": {\"standoff\": 15}, \"zerolinecolor\": \"white\", \"zerolinewidth\": 2}}}, \"title\": {\"text\": \"ROC Curve (AUC=0.8731)\"}, \"width\": 700, \"xaxis\": {\"anchor\": \"y\", \"constrain\": \"domain\", \"domain\": [0.0, 1.0], \"title\": {\"text\": \"False Positive Rate\"}}, \"yaxis\": {\"anchor\": \"x\", \"domain\": [0.0, 1.0], \"scaleanchor\": \"x\", \"scaleratio\": 1, \"title\": {\"text\": \"True Positive Rate\"}}},                        {\"responsive\": true}                    ).then(function(){\n",
       "                            \n",
       "var gd = document.getElementById('e8e2824a-9aa2-4cbf-8353-80028f331150');\n",
       "var x = new MutationObserver(function (mutations, observer) {{\n",
       "        var display = window.getComputedStyle(gd).display;\n",
       "        if (!display || display === 'none') {{\n",
       "            console.log([gd, 'removed!']);\n",
       "            Plotly.purge(gd);\n",
       "            observer.disconnect();\n",
       "        }}\n",
       "}});\n",
       "\n",
       "// Listen for the removal of the full notebook cells\n",
       "var notebookContainer = gd.closest('#notebook-container');\n",
       "if (notebookContainer) {{\n",
       "    x.observe(notebookContainer, {childList: true});\n",
       "}}\n",
       "\n",
       "// Listen for the clearing of the current output cell\n",
       "var outputEl = gd.closest('.output');\n",
       "if (outputEl) {{\n",
       "    x.observe(outputEl, {childList: true});\n",
       "}}\n",
       "\n",
       "                        })                };                });            </script>        </div>"
      ]
     },
     "metadata": {},
     "output_type": "display_data"
    },
    {
     "name": "stdout",
     "output_type": "stream",
     "text": [
      "confusion_matrix: [[    1     0]\n",
      " [ 4882 14349]]\n",
      "accuracy: 0.7461522462562395\n",
      "recall: 0.746139046331444\n",
      "precision: 1.0\n",
      "f1: 0.8546158427635497\n"
     ]
    }
   ],
   "source": [
    "seed = 1\n",
    "train_model = False\n",
    "if train_model:\n",
    "    add_atack_to_train = True\n",
    "    df = pd.read_csv('ex_data.csv')\n",
    "    df = feature_engineering(df)\n",
    "    df['label'] = 1\n",
    "    df.loc[df[\"timestamp\"]==1552695187200, 'label'] = -1\n",
    "    feat_cols = list(df.columns)\n",
    "    feat_cols.remove('label')\n",
    "\n",
    "    display(df)\n",
    "\n",
    "    X = df.loc[df[\"label\"]!=-1, feat_cols]\n",
    "    y = df.loc[df[\"label\"]!=-1, 'label']\n",
    "    X_train, X_test, y_train, y_test = train_test_split(X, y,random_state=0)\n",
    "\n",
    "    attack_x = df.loc[df[\"label\"]==-1, feat_cols]\n",
    "    attack_y = df.loc[df[\"label\"]==-1, 'label']\n",
    "\n",
    "    X_test = pd.concat([X_test, attack_x], ignore_index=True)\n",
    "    y_test = pd.concat([y_test, attack_y], ignore_index=True)\n",
    "\n",
    "    if add_atack_to_train:\n",
    "        X_train = pd.concat([X_train, attack_x], ignore_index=True)\n",
    "        y_train = pd.concat([y_train, attack_y], ignore_index=True)\n",
    "\n",
    "    data_exploration_preprocessing(X_train, visalizatoin=True)\n",
    "    \n",
    "    outliers_fraction = 0.00001\n",
    "    algo_dict = {\"OneClassSVM\": svm.OneClassSVM(nu=outliers_fraction, kernel=\"rbf\", gamma=0.1),\n",
    "            \"IForest\": IsolationForest(contamination=outliers_fraction, n_estimators=10, warm_start=True),\n",
    "            \"RobustCovariance\": EllipticEnvelope(contamination=outliers_fraction)\n",
    "               }\n",
    "\n",
    "    run(X_train, y_train, X_test, y_test, algo_dict)"
   ]
  },
  {
   "cell_type": "markdown",
   "metadata": {},
   "source": [
    "# Serving the model"
   ]
  },
  {
   "cell_type": "code",
   "execution_count": 9,
   "metadata": {},
   "outputs": [],
   "source": [
    "def predict_data(data):\n",
    "    data = feature_engineering(data, train=False)\n",
    "    return predict(data)\n",
    "\n",
    "sample_predict = pd.read_csv('ex_data.csv').sample(5)\n",
    "prediction = predict_data(sample_predict)"
   ]
  },
  {
   "cell_type": "markdown",
   "metadata": {},
   "source": [
    "# prediction histogram"
   ]
  },
  {
   "cell_type": "code",
   "execution_count": 10,
   "metadata": {},
   "outputs": [
    {
     "data": {
      "image/png": "[encoded data removed]",
      "text/plain": [
       "<Figure size 800x550 with 1 Axes>"
      ]
     },
     "metadata": {},
     "output_type": "display_data"
    }
   ],
   "source": [
    "_ = plt.hist(prediction, bins='auto')  # arguments are passed to np.histogram\n",
    "plt.show()"
   ]
  }
 ],
 "metadata": {
  "kernelspec": {
   "display_name": "Python [conda env:ds3] *",
   "language": "python",
   "name": "conda-env-ds3-py"
  },
  "language_info": {
   "codemirror_mode": {
    "name": "ipython",
    "version": 3
   },
   "file_extension": ".py",
   "mimetype": "text/x-python",
   "name": "python",
   "nbconvert_exporter": "python",
   "pygments_lexer": "ipython3",
   "version": "3.7.6"
  }
 },
 "nbformat": 4,
 "nbformat_minor": 4
}
